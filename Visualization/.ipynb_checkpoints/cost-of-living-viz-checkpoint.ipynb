{
 "cells": [
  {
   "cell_type": "code",
   "execution_count": 1,
   "id": "631f14d7-91fa-4dd8-8bff-f4fa84876b91",
   "metadata": {},
   "outputs": [],
   "source": [
    "import matplotlib.pyplot as plt\n",
    "import pandas as pd\n",
    "import seaborn as sns"
   ]
  },
  {
   "cell_type": "code",
   "execution_count": 2,
   "id": "17ca19c8-5171-4d5e-b5a7-df98b46c51ec",
   "metadata": {},
   "outputs": [],
   "source": [
    "uri = '../Sample data/Cost_of_Living_Index_2022.csv'"
   ]
  },
  {
   "cell_type": "code",
   "execution_count": null,
   "id": "cfe5cd93-bcbe-4cf3-ba05-4356c2bf94ca",
   "metadata": {},
   "outputs": [],
   "source": [
    "df = pd.read_csv(uri)"
   ]
  }
 ],
 "metadata": {
  "kernelspec": {
   "display_name": "Python 3",
   "language": "python",
   "name": "python3"
  },
  "language_info": {
   "codemirror_mode": {
    "name": "ipython",
    "version": 3
   },
   "file_extension": ".py",
   "mimetype": "text/x-python",
   "name": "python",
   "nbconvert_exporter": "python",
   "pygments_lexer": "ipython3",
   "version": "3.8.5"
  }
 },
 "nbformat": 4,
 "nbformat_minor": 5
}
