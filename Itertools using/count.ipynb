{
 "cells": [
  {
   "cell_type": "code",
   "execution_count": 34,
   "id": "18702c8c-514f-4b2a-8e3b-364022fc9689",
   "metadata": {},
   "outputs": [
    {
     "name": "stdout",
     "output_type": "stream",
     "text": [
      "count(0)\n"
     ]
    }
   ],
   "source": [
    "import itertools as it\n",
    "\n",
    "ct = it.count()\n",
    "print(ct)"
   ]
  },
  {
   "cell_type": "code",
   "execution_count": 35,
   "id": "65e90782-cdc2-47b0-ac71-daf75ca5f248",
   "metadata": {},
   "outputs": [
    {
     "data": {
      "text/plain": [
       "['a', 'b', 'c']"
      ]
     },
     "execution_count": 35,
     "metadata": {},
     "output_type": "execute_result"
    }
   ],
   "source": [
    "list('abc')"
   ]
  },
  {
   "cell_type": "code",
   "execution_count": 36,
   "id": "85c14194-4a88-47a9-8bc6-bbf2ff965e54",
   "metadata": {},
   "outputs": [
    {
     "data": {
      "text/plain": [
       "[1, 2, 3]"
      ]
     },
     "execution_count": 36,
     "metadata": {},
     "output_type": "execute_result"
    }
   ],
   "source": [
    "list((1,2,3))"
   ]
  },
  {
   "cell_type": "code",
   "execution_count": 37,
   "id": "e9adfe70-183d-4451-9951-dc6a18d3110f",
   "metadata": {},
   "outputs": [
    {
     "data": {
      "text/plain": [
       "[0, 1, 2, 3, 4]"
      ]
     },
     "execution_count": 37,
     "metadata": {},
     "output_type": "execute_result"
    }
   ],
   "source": [
    "list(next(ct) for _ in range(5))"
   ]
  },
  {
   "cell_type": "code",
   "execution_count": 38,
   "id": "b8068554-5274-4d51-9ead-3951f2fe063b",
   "metadata": {},
   "outputs": [
    {
     "data": {
      "text/plain": [
       "count(5)"
      ]
     },
     "execution_count": 38,
     "metadata": {},
     "output_type": "execute_result"
    }
   ],
   "source": [
    "ct"
   ]
  },
  {
   "cell_type": "code",
   "execution_count": 39,
   "id": "3cf8a4e9-c8d0-4e5b-876a-f032ae48364c",
   "metadata": {},
   "outputs": [
    {
     "data": {
      "text/plain": [
       "5"
      ]
     },
     "execution_count": 39,
     "metadata": {},
     "output_type": "execute_result"
    }
   ],
   "source": [
    "next(ct)"
   ]
  },
  {
   "cell_type": "code",
   "execution_count": 40,
   "id": "3849ea79-7227-4dfb-8609-aa7903851503",
   "metadata": {},
   "outputs": [
    {
     "data": {
      "text/plain": [
       "6"
      ]
     },
     "execution_count": 40,
     "metadata": {},
     "output_type": "execute_result"
    }
   ],
   "source": [
    "next(ct)"
   ]
  },
  {
   "cell_type": "code",
   "execution_count": 41,
   "id": "f1993944-e506-4239-a5c7-63c2367ec51b",
   "metadata": {},
   "outputs": [
    {
     "data": {
      "text/plain": [
       "[7, 8, 9, 10, 11]"
      ]
     },
     "execution_count": 41,
     "metadata": {},
     "output_type": "execute_result"
    }
   ],
   "source": [
    "list(next(ct) for _ in range(5))"
   ]
  },
  {
   "cell_type": "markdown",
   "id": "455cd851-7043-4dad-aa7a-f260224b5a3a",
   "metadata": {},
   "source": [
    "## Even number"
   ]
  },
  {
   "cell_type": "code",
   "execution_count": 42,
   "id": "f75b78c9-8c94-4146-94ec-cd132ffd882d",
   "metadata": {},
   "outputs": [
    {
     "data": {
      "text/plain": [
       "count(0, 2)"
      ]
     },
     "execution_count": 42,
     "metadata": {},
     "output_type": "execute_result"
    }
   ],
   "source": [
    "ct2 = it.count(0,2)\n",
    "ct2"
   ]
  },
  {
   "cell_type": "code",
   "execution_count": 43,
   "id": "550419e5-390f-4e04-bbf0-95cd10d8c917",
   "metadata": {},
   "outputs": [
    {
     "data": {
      "text/plain": [
       "[0, 2, 4, 6, 8]"
      ]
     },
     "execution_count": 43,
     "metadata": {},
     "output_type": "execute_result"
    }
   ],
   "source": [
    "list(next(ct2) for _ in range(5))"
   ]
  },
  {
   "cell_type": "markdown",
   "id": "bad1ce90-c598-4435-9617-4580fe5d4c8d",
   "metadata": {},
   "source": [
    "## Odd list"
   ]
  },
  {
   "cell_type": "code",
   "execution_count": 44,
   "id": "5c262d65-9dc5-48b3-af85-eae6fec86a3a",
   "metadata": {},
   "outputs": [
    {
     "data": {
      "text/plain": [
       "[1, 3, 5, 7, 9]"
      ]
     },
     "execution_count": 44,
     "metadata": {},
     "output_type": "execute_result"
    }
   ],
   "source": [
    "ct3 = it.count(1,2)\n",
    "list(next(ct3) for _ in range(5))"
   ]
  },
  {
   "cell_type": "markdown",
   "id": "163685ec-3899-403a-853e-bd35113e9bd5",
   "metadata": {},
   "source": [
    "## Seq of negative & floating numbers"
   ]
  },
  {
   "cell_type": "code",
   "execution_count": 46,
   "id": "07795a80-c674-4a0b-ae58-b0bb822f5c2c",
   "metadata": {},
   "outputs": [
    {
     "name": "stdout",
     "output_type": "stream",
     "text": [
      "<generator object <genexpr> at 0x7fa7046fc430>\n"
     ]
    }
   ],
   "source": [
    "k = ( 0 + 3 * i for i in it.count())\n",
    "print(k)"
   ]
  },
  {
   "cell_type": "markdown",
   "id": "5790329e-e83c-4a1f-b873-f22789a89f5b",
   "metadata": {},
   "source": [
    "## Zipping to emulate \"enumerate()\""
   ]
  },
  {
   "cell_type": "code",
   "execution_count": 58,
   "id": "f34b3bcd-7a2b-4fe9-bd9f-7a204c5cfcac",
   "metadata": {},
   "outputs": [
    {
     "name": "stdout",
     "output_type": "stream",
     "text": [
      "(0, 'bhl')\n",
      "(1, 'minecraft')\n",
      "(2, 'dota2')\n",
      "(3, 'brawlstars')\n"
     ]
    }
   ],
   "source": [
    "my_list = [\"bhl\", \"minecraft\", \"dota2\", \"brawlstars\"]\n",
    "## traditional enumerate()\n",
    "for list in enumerate(my_list):\n",
    "    print(list)"
   ]
  },
  {
   "cell_type": "code",
   "execution_count": 59,
   "id": "12e8c963-9397-4e4b-aa8f-e0367102b94e",
   "metadata": {},
   "outputs": [
    {
     "name": "stdout",
     "output_type": "stream",
     "text": [
      "Game #1 : bhl\n",
      "Game #2 : minecraft\n",
      "Game #3 : dota2\n",
      "Game #4 : brawlstars\n"
     ]
    }
   ],
   "source": [
    "# or \n",
    "for ind, item in enumerate(my_list):\n",
    "    print('Game #%i : %s' %(ind+1, item))"
   ]
  },
  {
   "cell_type": "markdown",
   "id": "c364c9f4-e994-4d2b-a771-52be2b0b1029",
   "metadata": {},
   "source": [
    "### mock enumerate"
   ]
  },
  {
   "cell_type": "code",
   "execution_count": 84,
   "id": "df684c6c-b588-4b2d-a8e2-b0a5f1c9075f",
   "metadata": {},
   "outputs": [
    {
     "name": "stdout",
     "output_type": "stream",
     "text": [
      "(1, 'bhl')\n",
      "(2, 'minecraft')\n",
      "(3, 'dota2')\n",
      "(4, 'brawlstars')\n"
     ]
    },
    {
     "data": {
      "text/plain": [
       "[None, None, None, None]"
      ]
     },
     "execution_count": 84,
     "metadata": {},
     "output_type": "execute_result"
    }
   ],
   "source": [
    "z = zip(it.count(1, 1), my_list )\n",
    "[ print(list) for list in z ] # print but not assign to array"
   ]
  },
  {
   "cell_type": "code",
   "execution_count": 74,
   "id": "500aec42-2001-4abc-af81-03f3ab7dc4ed",
   "metadata": {},
   "outputs": [
    {
     "name": "stdout",
     "output_type": "stream",
     "text": [
      "(1, 'bhl')\n",
      "(2, 'minecraft')\n",
      "(3, 'dota2')\n",
      "(4, 'brawlstars')\n"
     ]
    }
   ],
   "source": [
    "for i in zip(it.count(1,1), my_list):\n",
    "    print(i)"
   ]
  },
  {
   "cell_type": "code",
   "execution_count": 94,
   "id": "35b47e9d-3c74-43a4-a8b1-ea2531c785c3",
   "metadata": {},
   "outputs": [
    {
     "name": "stdout",
     "output_type": "stream",
     "text": [
      "0 1 2 3 4 5 6 7 8 9 10 11 12 13 14 15 16 17 18 19 20 21 22 23 24 25 26 27 28 29 30 31 32 33 34 "
     ]
    }
   ],
   "source": [
    "for i in it.count():\n",
    "    if i == 35: break\n",
    "    else: print(i, end=' ')"
   ]
  }
 ],
 "metadata": {
  "kernelspec": {
   "display_name": "Python 3",
   "language": "python",
   "name": "python3"
  },
  "language_info": {
   "codemirror_mode": {
    "name": "ipython",
    "version": 3
   },
   "file_extension": ".py",
   "mimetype": "text/x-python",
   "name": "python",
   "nbconvert_exporter": "python",
   "pygments_lexer": "ipython3",
   "version": "3.8.5"
  }
 },
 "nbformat": 4,
 "nbformat_minor": 5
}
