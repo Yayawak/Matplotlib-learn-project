{
 "cells": [
  {
   "cell_type": "code",
   "execution_count": 1,
   "id": "6a3bfe25-d859-48b6-aca9-eb2dd8174e16",
   "metadata": {},
   "outputs": [],
   "source": [
    "import matplotlib.pyplot as plt\n",
    "import numpy as np\n",
    "import pandas as pd"
   ]
  },
  {
   "cell_type": "code",
   "execution_count": 12,
   "id": "fcfe4fca-ac5a-431f-bb19-7fec09796fca",
   "metadata": {},
   "outputs": [
    {
     "data": {
      "text/html": [
       "<div>\n",
       "<style scoped>\n",
       "    .dataframe tbody tr th:only-of-type {\n",
       "        vertical-align: middle;\n",
       "    }\n",
       "\n",
       "    .dataframe tbody tr th {\n",
       "        vertical-align: top;\n",
       "    }\n",
       "\n",
       "    .dataframe thead th {\n",
       "        text-align: right;\n",
       "    }\n",
       "</style>\n",
       "<table border=\"1\" class=\"dataframe\">\n",
       "  <thead>\n",
       "    <tr style=\"text-align: right;\">\n",
       "      <th></th>\n",
       "      <th>OrderDate</th>\n",
       "      <th>Region</th>\n",
       "      <th>Rep</th>\n",
       "      <th>Item</th>\n",
       "      <th>Units</th>\n",
       "      <th>Unit Cost</th>\n",
       "      <th>Total</th>\n",
       "    </tr>\n",
       "  </thead>\n",
       "  <tbody>\n",
       "    <tr>\n",
       "      <th>0</th>\n",
       "      <td>1/6/21</td>\n",
       "      <td>East</td>\n",
       "      <td>Jones</td>\n",
       "      <td>Pencil</td>\n",
       "      <td>95</td>\n",
       "      <td>1.99</td>\n",
       "      <td>189.05</td>\n",
       "    </tr>\n",
       "    <tr>\n",
       "      <th>1</th>\n",
       "      <td>1/23/21</td>\n",
       "      <td>Central</td>\n",
       "      <td>Kivell</td>\n",
       "      <td>Binder</td>\n",
       "      <td>50</td>\n",
       "      <td>19.99</td>\n",
       "      <td>999.50</td>\n",
       "    </tr>\n",
       "    <tr>\n",
       "      <th>2</th>\n",
       "      <td>2/9/21</td>\n",
       "      <td>Central</td>\n",
       "      <td>Jardine</td>\n",
       "      <td>Pencil</td>\n",
       "      <td>36</td>\n",
       "      <td>4.99</td>\n",
       "      <td>179.64</td>\n",
       "    </tr>\n",
       "    <tr>\n",
       "      <th>3</th>\n",
       "      <td>2/26/21</td>\n",
       "      <td>Central</td>\n",
       "      <td>Gill</td>\n",
       "      <td>Pen</td>\n",
       "      <td>27</td>\n",
       "      <td>19.99</td>\n",
       "      <td>539.73</td>\n",
       "    </tr>\n",
       "    <tr>\n",
       "      <th>4</th>\n",
       "      <td>3/15/21</td>\n",
       "      <td>West</td>\n",
       "      <td>Sorvino</td>\n",
       "      <td>Pencil</td>\n",
       "      <td>56</td>\n",
       "      <td>2.99</td>\n",
       "      <td>167.44</td>\n",
       "    </tr>\n",
       "  </tbody>\n",
       "</table>\n",
       "</div>"
      ],
      "text/plain": [
       "  OrderDate   Region      Rep    Item  Units  Unit Cost   Total\n",
       "0    1/6/21     East    Jones  Pencil     95       1.99  189.05\n",
       "1   1/23/21  Central   Kivell  Binder     50      19.99  999.50\n",
       "2    2/9/21  Central  Jardine  Pencil     36       4.99  179.64\n",
       "3   2/26/21  Central     Gill     Pen     27      19.99  539.73\n",
       "4   3/15/21     West  Sorvino  Pencil     56       2.99  167.44"
      ]
     },
     "execution_count": 12,
     "metadata": {},
     "output_type": "execute_result"
    }
   ],
   "source": [
    "uri = '../Sample data/SampleData.csv'\n",
    "df = pd.read_csv(uri)\n",
    "df.Total.replace(',', '', regex=True, inplace=True)\n",
    "df.Total = df.Total.apply(pd.to_numeric)\n",
    "df.head(5)"
   ]
  },
  {
   "cell_type": "markdown",
   "id": "dda3c870-56c2-4a7e-9242-3d49715ec9dc",
   "metadata": {},
   "source": [
    "# Filtering"
   ]
  },
  {
   "cell_type": "code",
   "execution_count": 17,
   "id": "ddb474ab-a48c-46de-8f15-ad0316bb6387",
   "metadata": {},
   "outputs": [
    {
     "data": {
      "text/html": [
       "<div>\n",
       "<style scoped>\n",
       "    .dataframe tbody tr th:only-of-type {\n",
       "        vertical-align: middle;\n",
       "    }\n",
       "\n",
       "    .dataframe tbody tr th {\n",
       "        vertical-align: top;\n",
       "    }\n",
       "\n",
       "    .dataframe thead th {\n",
       "        text-align: right;\n",
       "    }\n",
       "</style>\n",
       "<table border=\"1\" class=\"dataframe\">\n",
       "  <thead>\n",
       "    <tr style=\"text-align: right;\">\n",
       "      <th>Item</th>\n",
       "      <th>Binder</th>\n",
       "      <th>Pen</th>\n",
       "      <th>Pen Set</th>\n",
       "      <th>Pencil</th>\n",
       "    </tr>\n",
       "    <tr>\n",
       "      <th>Rep</th>\n",
       "      <th></th>\n",
       "      <th></th>\n",
       "      <th></th>\n",
       "      <th></th>\n",
       "    </tr>\n",
       "  </thead>\n",
       "  <tbody>\n",
       "    <tr>\n",
       "      <th>Howard</th>\n",
       "      <td>57.710000</td>\n",
       "      <td>479.04</td>\n",
       "      <td>0.00</td>\n",
       "      <td>0.00</td>\n",
       "    </tr>\n",
       "    <tr>\n",
       "      <th>Jones</th>\n",
       "      <td>286.253333</td>\n",
       "      <td>575.36</td>\n",
       "      <td>282.61</td>\n",
       "      <td>181.85</td>\n",
       "    </tr>\n",
       "    <tr>\n",
       "      <th>Parent</th>\n",
       "      <td>1619.190000</td>\n",
       "      <td>299.85</td>\n",
       "      <td>1183.26</td>\n",
       "      <td>0.00</td>\n",
       "    </tr>\n",
       "  </tbody>\n",
       "</table>\n",
       "</div>"
      ],
      "text/plain": [
       "Item         Binder     Pen  Pen Set  Pencil\n",
       "Rep                                         \n",
       "Howard    57.710000  479.04     0.00    0.00\n",
       "Jones    286.253333  575.36   282.61  181.85\n",
       "Parent  1619.190000  299.85  1183.26    0.00"
      ]
     },
     "execution_count": 17,
     "metadata": {},
     "output_type": "execute_result"
    }
   ],
   "source": [
    "pvt = df[df.Region == 'East' ].pivot_table(index='Rep',\n",
    "                                   columns='Item',\n",
    "                                   values='Total',\n",
    "                                    fill_value=0)\n",
    "pvt"
   ]
  },
  {
   "cell_type": "code",
   "execution_count": 26,
   "id": "251e598f-c8e3-4903-b162-14bc9475e1e6",
   "metadata": {},
   "outputs": [
    {
     "data": {
      "text/html": [
       "<div>\n",
       "<style scoped>\n",
       "    .dataframe tbody tr th:only-of-type {\n",
       "        vertical-align: middle;\n",
       "    }\n",
       "\n",
       "    .dataframe tbody tr th {\n",
       "        vertical-align: top;\n",
       "    }\n",
       "\n",
       "    .dataframe thead th {\n",
       "        text-align: right;\n",
       "    }\n",
       "</style>\n",
       "<table border=\"1\" class=\"dataframe\">\n",
       "  <thead>\n",
       "    <tr style=\"text-align: right;\">\n",
       "      <th></th>\n",
       "      <th>Item</th>\n",
       "      <th>Binder</th>\n",
       "      <th>Desk</th>\n",
       "      <th>Pen</th>\n",
       "      <th>Pen Set</th>\n",
       "      <th>Pencil</th>\n",
       "    </tr>\n",
       "    <tr>\n",
       "      <th>Region</th>\n",
       "      <th>Rep</th>\n",
       "      <th></th>\n",
       "      <th></th>\n",
       "      <th></th>\n",
       "      <th></th>\n",
       "      <th></th>\n",
       "    </tr>\n",
       "  </thead>\n",
       "  <tbody>\n",
       "    <tr>\n",
       "      <th rowspan=\"3\" valign=\"top\">East</th>\n",
       "      <th>Howard</th>\n",
       "      <td>57.710000</td>\n",
       "      <td>0</td>\n",
       "      <td>479.04</td>\n",
       "      <td>0.00</td>\n",
       "      <td>0.00</td>\n",
       "    </tr>\n",
       "    <tr>\n",
       "      <th>Jones</th>\n",
       "      <td>286.253333</td>\n",
       "      <td>0</td>\n",
       "      <td>575.36</td>\n",
       "      <td>282.61</td>\n",
       "      <td>181.85</td>\n",
       "    </tr>\n",
       "    <tr>\n",
       "      <th>Parent</th>\n",
       "      <td>1619.190000</td>\n",
       "      <td>0</td>\n",
       "      <td>299.85</td>\n",
       "      <td>1183.26</td>\n",
       "      <td>0.00</td>\n",
       "    </tr>\n",
       "    <tr>\n",
       "      <th rowspan=\"2\" valign=\"top\">West</th>\n",
       "      <th>Sorvino</th>\n",
       "      <td>139.930000</td>\n",
       "      <td>825</td>\n",
       "      <td>151.24</td>\n",
       "      <td>0.00</td>\n",
       "      <td>167.44</td>\n",
       "    </tr>\n",
       "    <tr>\n",
       "      <th>Thompson</th>\n",
       "      <td>1139.430000</td>\n",
       "      <td>0</td>\n",
       "      <td>0.00</td>\n",
       "      <td>0.00</td>\n",
       "      <td>63.68</td>\n",
       "    </tr>\n",
       "  </tbody>\n",
       "</table>\n",
       "</div>"
      ],
      "text/plain": [
       "Item                  Binder  Desk     Pen  Pen Set  Pencil\n",
       "Region Rep                                                 \n",
       "East   Howard      57.710000     0  479.04     0.00    0.00\n",
       "       Jones      286.253333     0  575.36   282.61  181.85\n",
       "       Parent    1619.190000     0  299.85  1183.26    0.00\n",
       "West   Sorvino    139.930000   825  151.24     0.00  167.44\n",
       "       Thompson  1139.430000     0    0.00     0.00   63.68"
      ]
     },
     "execution_count": 26,
     "metadata": {},
     "output_type": "execute_result"
    }
   ],
   "source": [
    "pvt = df[(df.Region == 'East') |\n",
    "        (df.Region == 'West')].pivot_table(index=['Region', 'Rep'],\n",
    "                                   columns='Item',\n",
    "                                   values='Total',\n",
    "                                    fill_value=0)\n",
    "pvt"
   ]
  },
  {
   "cell_type": "code",
   "execution_count": 41,
   "id": "a3045380-a629-4239-a098-ef3293cb1987",
   "metadata": {},
   "outputs": [
    {
     "data": {
      "text/html": [
       "<div>\n",
       "<style scoped>\n",
       "    .dataframe tbody tr th:only-of-type {\n",
       "        vertical-align: middle;\n",
       "    }\n",
       "\n",
       "    .dataframe tbody tr th {\n",
       "        vertical-align: top;\n",
       "    }\n",
       "\n",
       "    .dataframe thead th {\n",
       "        text-align: right;\n",
       "    }\n",
       "</style>\n",
       "<table border=\"1\" class=\"dataframe\">\n",
       "  <thead>\n",
       "    <tr style=\"text-align: right;\">\n",
       "      <th>Item</th>\n",
       "      <th>Binder</th>\n",
       "      <th>Pen Set</th>\n",
       "    </tr>\n",
       "    <tr>\n",
       "      <th>Rep</th>\n",
       "      <th></th>\n",
       "      <th></th>\n",
       "    </tr>\n",
       "  </thead>\n",
       "  <tbody>\n",
       "    <tr>\n",
       "      <th>Parent</th>\n",
       "      <td>1619.19</td>\n",
       "      <td>1183.26</td>\n",
       "    </tr>\n",
       "  </tbody>\n",
       "</table>\n",
       "</div>"
      ],
      "text/plain": [
       "Item     Binder  Pen Set\n",
       "Rep                     \n",
       "Parent  1619.19  1183.26"
      ]
     },
     "execution_count": 41,
     "metadata": {},
     "output_type": "execute_result"
    }
   ],
   "source": [
    "total_max = df.Total.max()\n",
    "pvt = df[(df.Region == 'East' ) &\n",
    "        (df.Total > total_max/2)].pivot_table(index='Rep',\n",
    "                                   columns='Item',\n",
    "                                   values='Total',\n",
    "                                    fill_value=0)\n",
    "pvt"
   ]
  },
  {
   "cell_type": "code",
   "execution_count": 43,
   "id": "e67ca48c-b239-43cc-b90a-453645fd6e3d",
   "metadata": {},
   "outputs": [
    {
     "data": {
      "text/html": [
       "<div>\n",
       "<style scoped>\n",
       "    .dataframe tbody tr th:only-of-type {\n",
       "        vertical-align: middle;\n",
       "    }\n",
       "\n",
       "    .dataframe tbody tr th {\n",
       "        vertical-align: top;\n",
       "    }\n",
       "\n",
       "    .dataframe thead th {\n",
       "        text-align: right;\n",
       "    }\n",
       "</style>\n",
       "<table border=\"1\" class=\"dataframe\">\n",
       "  <thead>\n",
       "    <tr style=\"text-align: right;\">\n",
       "      <th></th>\n",
       "      <th>Total</th>\n",
       "      <th>Unit Cost</th>\n",
       "      <th>Units</th>\n",
       "    </tr>\n",
       "    <tr>\n",
       "      <th>Rep</th>\n",
       "      <th></th>\n",
       "      <th></th>\n",
       "      <th></th>\n",
       "    </tr>\n",
       "  </thead>\n",
       "  <tbody>\n",
       "    <tr>\n",
       "      <th>Jardine</th>\n",
       "      <td>562.438</td>\n",
       "      <td>7.99</td>\n",
       "      <td>56.2</td>\n",
       "    </tr>\n",
       "    <tr>\n",
       "      <th>Jones</th>\n",
       "      <td>295.380</td>\n",
       "      <td>6.99</td>\n",
       "      <td>49.5</td>\n",
       "    </tr>\n",
       "  </tbody>\n",
       "</table>\n",
       "</div>"
      ],
      "text/plain": [
       "           Total  Unit Cost  Units\n",
       "Rep                               \n",
       "Jardine  562.438       7.99   56.2\n",
       "Jones    295.380       6.99   49.5"
      ]
     },
     "execution_count": 43,
     "metadata": {},
     "output_type": "execute_result"
    }
   ],
   "source": [
    "pvt = df[df.Rep.str.match('J')].pivot_table(index='Rep')\n",
    "pvt"
   ]
  },
  {
   "cell_type": "code",
   "execution_count": 51,
   "id": "c880198f-d3f8-4eca-9beb-70dd5a6b8e47",
   "metadata": {},
   "outputs": [
    {
     "data": {
      "text/html": [
       "<div>\n",
       "<style scoped>\n",
       "    .dataframe tbody tr th:only-of-type {\n",
       "        vertical-align: middle;\n",
       "    }\n",
       "\n",
       "    .dataframe tbody tr th {\n",
       "        vertical-align: top;\n",
       "    }\n",
       "\n",
       "    .dataframe thead th {\n",
       "        text-align: right;\n",
       "    }\n",
       "</style>\n",
       "<table border=\"1\" class=\"dataframe\">\n",
       "  <thead>\n",
       "    <tr style=\"text-align: right;\">\n",
       "      <th></th>\n",
       "      <th>Units</th>\n",
       "      <th>Unit Cost</th>\n",
       "      <th>Total</th>\n",
       "    </tr>\n",
       "    <tr>\n",
       "      <th>Rep</th>\n",
       "      <th></th>\n",
       "      <th></th>\n",
       "      <th></th>\n",
       "    </tr>\n",
       "  </thead>\n",
       "  <tbody>\n",
       "    <tr>\n",
       "      <th>Jardine</th>\n",
       "      <td>281</td>\n",
       "      <td>39.95</td>\n",
       "      <td>2812.19</td>\n",
       "    </tr>\n",
       "    <tr>\n",
       "      <th>Jones</th>\n",
       "      <td>396</td>\n",
       "      <td>55.92</td>\n",
       "      <td>2363.04</td>\n",
       "    </tr>\n",
       "  </tbody>\n",
       "</table>\n",
       "</div>"
      ],
      "text/plain": [
       "         Units  Unit Cost    Total\n",
       "Rep                               \n",
       "Jardine    281      39.95  2812.19\n",
       "Jones      396      55.92  2363.04"
      ]
     },
     "execution_count": 51,
     "metadata": {},
     "output_type": "execute_result"
    }
   ],
   "source": [
    "df[df.Rep.str.match('J')].groupby('Rep').sum()"
   ]
  },
  {
   "cell_type": "markdown",
   "id": "ce3090a0-7cb9-4b01-80c5-17f3359d1a97",
   "metadata": {},
   "source": [
    "# Compare perfomance of Rep"
   ]
  },
  {
   "cell_type": "code",
   "execution_count": 61,
   "id": "5021c0b8-0cb9-44b2-a6a0-b16273e14177",
   "metadata": {},
   "outputs": [
    {
     "data": {
      "text/plain": [
       "<AxesSubplot:xlabel='Region,Rep'>"
      ]
     },
     "execution_count": 61,
     "metadata": {},
     "output_type": "execute_result"
    },
    {
     "data": {
      "image/png": "[encoded data removed]",
      "text/plain": [
       "<Figure size 432x288 with 1 Axes>"
      ]
     },
     "metadata": {
      "needs_background": "light"
     },
     "output_type": "display_data"
    }
   ],
   "source": [
    "pvt = df[df.Rep.str.match('Gill') |\n",
    "        df.Rep.str.match('Andrews')].pivot_table(\n",
    "            index=['Region','Rep'], values='Total', \n",
    "            fill_value=0, columns='Item',\n",
    "            aggfunc='sum')\n",
    "pvt.plot.bar()"
   ]
  },
  {
   "cell_type": "code",
   "execution_count": 62,
   "id": "e24ac105-ab05-4e55-a7eb-0fad07487584",
   "metadata": {},
   "outputs": [
    {
     "data": {
      "text/html": [
       "<div>\n",
       "<style scoped>\n",
       "    .dataframe tbody tr th:only-of-type {\n",
       "        vertical-align: middle;\n",
       "    }\n",
       "\n",
       "    .dataframe tbody tr th {\n",
       "        vertical-align: top;\n",
       "    }\n",
       "\n",
       "    .dataframe thead th {\n",
       "        text-align: right;\n",
       "    }\n",
       "</style>\n",
       "<table border=\"1\" class=\"dataframe\">\n",
       "  <thead>\n",
       "    <tr style=\"text-align: right;\">\n",
       "      <th></th>\n",
       "      <th>Item</th>\n",
       "      <th>Binder</th>\n",
       "      <th>Pen</th>\n",
       "      <th>Pencil</th>\n",
       "    </tr>\n",
       "    <tr>\n",
       "      <th>Region</th>\n",
       "      <th>Rep</th>\n",
       "      <th></th>\n",
       "      <th></th>\n",
       "      <th></th>\n",
       "    </tr>\n",
       "  </thead>\n",
       "  <tbody>\n",
       "    <tr>\n",
       "      <th rowspan=\"2\" valign=\"top\">Central</th>\n",
       "      <th>Andrews</th>\n",
       "      <td>139.72</td>\n",
       "      <td>0.00</td>\n",
       "      <td>298.65</td>\n",
       "    </tr>\n",
       "    <tr>\n",
       "      <th>Gill</th>\n",
       "      <td>1132.74</td>\n",
       "      <td>539.73</td>\n",
       "      <td>77.40</td>\n",
       "    </tr>\n",
       "  </tbody>\n",
       "</table>\n",
       "</div>"
      ],
      "text/plain": [
       "Item              Binder     Pen  Pencil\n",
       "Region  Rep                             \n",
       "Central Andrews   139.72    0.00  298.65\n",
       "        Gill     1132.74  539.73   77.40"
      ]
     },
     "execution_count": 62,
     "metadata": {},
     "output_type": "execute_result"
    }
   ],
   "source": [
    "pvt"
   ]
  }
 ],
 "metadata": {
  "kernelspec": {
   "display_name": "Python 3",
   "language": "python",
   "name": "python3"
  },
  "language_info": {
   "codemirror_mode": {
    "name": "ipython",
    "version": 3
   },
   "file_extension": ".py",
   "mimetype": "text/x-python",
   "name": "python",
   "nbconvert_exporter": "python",
   "pygments_lexer": "ipython3",
   "version": "3.8.5"
  }
 },
 "nbformat": 4,
 "nbformat_minor": 5
}
