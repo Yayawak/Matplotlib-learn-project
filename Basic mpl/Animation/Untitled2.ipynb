{
 "cells": [
  {
   "cell_type": "code",
   "execution_count": 2,
   "id": "327e7d4c-c5c8-47d7-800d-d15e3bfebcf8",
   "metadata": {},
   "outputs": [
    {
     "data": {
      "text/plain": [
       "'7.24.0'"
      ]
     },
     "execution_count": 2,
     "metadata": {},
     "output_type": "execute_result"
    }
   ],
   "source": [
    "import IPython\n",
    "IPython.__version__"
   ]
  },
  {
   "cell_type": "code",
   "execution_count": 4,
   "id": "3b2dcb20-f85a-41b3-adcd-6ae6cc20f640",
   "metadata": {},
   "outputs": [
    {
     "data": {
      "text/plain": [
       "'3.0.16'"
      ]
     },
     "execution_count": 4,
     "metadata": {},
     "output_type": "execute_result"
    }
   ],
   "source": [
    "import jupyterlab\n",
    "jupyterlab.__version__"
   ]
  },
  {
   "cell_type": "code",
   "execution_count": 8,
   "id": "31e0ef62-2dd2-4ab5-ab1d-f5e2d0cb307f",
   "metadata": {},
   "outputs": [
    {
     "data": {
      "text/plain": [
       "'2.0.1'"
      ]
     },
     "execution_count": 8,
     "metadata": {},
     "output_type": "execute_result"
    }
   ],
   "source": [
    "import xlrd\n",
    "xlrd.__version__"
   ]
  }
 ],
 "metadata": {
  "kernelspec": {
   "display_name": "Python 3",
   "language": "python",
   "name": "python3"
  },
  "language_info": {
   "codemirror_mode": {
    "name": "ipython",
    "version": 3
   },
   "file_extension": ".py",
   "mimetype": "text/x-python",
   "name": "python",
   "nbconvert_exporter": "python",
   "pygments_lexer": "ipython3",
   "version": "3.8.5"
  }
 },
 "nbformat": 4,
 "nbformat_minor": 5
}
